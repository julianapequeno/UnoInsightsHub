{
 "cells": [
  {
   "cell_type": "code",
   "execution_count": 1,
   "metadata": {},
   "outputs": [],
   "source": [
    "from data_analysis.src.SimulationExecutor import SimulationExecutor\n",
    "from data_analysis.src.SimulationExecutor import UNO_MODE"
   ]
  },
  {
   "cell_type": "code",
   "execution_count": 2,
   "metadata": {},
   "outputs": [],
   "source": [
    "ST = SimulationExecutor(UNO_MODE(False,[],4,500))"
   ]
  },
  {
   "cell_type": "code",
   "execution_count": null,
   "metadata": {},
   "outputs": [],
   "source": [
    "Wx =  1000\n",
    "Mx = 200\n",
    "matrix_probabilities = []\n",
    "for  j in range(0,Wx):\n",
    "    ST.reset_probabilities_list()\n",
    "    for i in range(0,Mx):\n",
    "        ST.create_simulation()\n",
    "        ST.check_fixed_card()\n",
    "        ST.generate_simulation_n_times()\n",
    "    matrix_probabilities.append(ST.get_probabilities_list())"
   ]
  },
  {
   "cell_type": "code",
   "execution_count": 8,
   "metadata": {},
   "outputs": [
    {
     "data": {
      "text/plain": [
       "(array([ 3.,  6., 18., 27., 43., 52., 35., 16.,  6.,  4.]),\n",
       " array([0.202 , 0.2128, 0.2236, 0.2344, 0.2452, 0.256 , 0.2668, 0.2776,\n",
       "        0.2884, 0.2992, 0.31  ]),\n",
       " <BarContainer object of 10 artists>)"
      ]
     },
     "execution_count": 8,
     "metadata": {},
     "output_type": "execute_result"
    },
    {
     "data": {
      "image/png": "[encoded data removed]",
      "text/plain": [
       "<Figure size 640x480 with 1 Axes>"
      ]
     },
     "metadata": {},
     "output_type": "display_data"
    }
   ],
   "source": [
    "import matplotlib.pyplot as plt\n",
    "\n",
    "plt.hist(ST.get_probabilities_list())"
   ]
  },
  {
   "cell_type": "code",
   "execution_count": 10,
   "metadata": {},
   "outputs": [
    {
     "data": {
      "text/plain": [
       "0.01916923319107436"
      ]
     },
     "execution_count": 10,
     "metadata": {},
     "output_type": "execute_result"
    }
   ],
   "source": [
    "from numpy import *\n",
    "\n",
    "std(ST.get_probabilities_list())"
   ]
  }
 ],
 "metadata": {
  "kernelspec": {
   "display_name": "Python 3",
   "language": "python",
   "name": "python3"
  },
  "language_info": {
   "codemirror_mode": {
    "name": "ipython",
    "version": 3
   },
   "file_extension": ".py",
   "mimetype": "text/x-python",
   "name": "python",
   "nbconvert_exporter": "python",
   "pygments_lexer": "ipython3",
   "version": "3.10.2"
  }
 },
 "nbformat": 4,
 "nbformat_minor": 2
}
