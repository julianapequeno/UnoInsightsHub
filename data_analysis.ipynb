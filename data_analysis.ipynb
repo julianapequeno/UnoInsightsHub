{
 "cells": [
  {
   "cell_type": "code",
   "execution_count": 66,
   "metadata": {},
   "outputs": [],
   "source": [
    "#UNO MODES\n",
    "HAVE_A_FIXED_INITIAL_CARD = False\n",
    "FIXED_INDEX_PLAYERS_CARDS = []\n",
    "NUMBER_OF_PLAYERS = 4\n",
    "NUMBER_OF_SIMULATIONS = 500"
   ]
  },
  {
   "cell_type": "code",
   "execution_count": 67,
   "metadata": {},
   "outputs": [],
   "source": [
    "from data_analysis.SimulationGenerator import SimulationGenerator\n",
    "\n",
    "simulation = SimulationGenerator(number_of_players=NUMBER_OF_PLAYERS,n_cards_fixed_input=FIXED_INDEX_PLAYERS_CARDS)\n",
    "simulation.generate_new_simulation_input_sample()\n",
    "UNO = simulation.generating_uno_simulation() "
   ]
  },
  {
   "cell_type": "code",
   "execution_count": 68,
   "metadata": {},
   "outputs": [],
   "source": [
    "if HAVE_A_FIXED_INITIAL_CARD:\n",
    "    FIXED_INITIAL_CARD = simulation.get_game_first_card()\n",
    "else:\n",
    "    FIXED_INITIAL_CARD = None"
   ]
  },
  {
   "cell_type": "markdown",
   "metadata": {},
   "source": [
    "Creating dataset"
   ]
  },
  {
   "cell_type": "code",
   "execution_count": null,
   "metadata": {},
   "outputs": [],
   "source": [
    "import pandas as pd\n",
    "\n",
    "df_simulation = pd.DataFrame()\n",
    "\n",
    "dataset_csv = pd.read_csv('dataset/fixed_players_input.csv', header = 0, sep = ',', encoding = 'utf-8',engine='c')\n",
    "dataset_csv = dataset_csv.set_index('Simulation')\n",
    "\n",
    "data_set_new_columns = pd.DataFrame()\n",
    "\n",
    "dataset_csv.info()"
   ]
  },
  {
   "cell_type": "markdown",
   "metadata": {},
   "source": [
    "<h5> Simulation DataSet - Fixing Players First Cards and Game's first card as inputs</h5>"
   ]
  },
  {
   "cell_type": "code",
   "execution_count": null,
   "metadata": {},
   "outputs": [],
   "source": [
    "from pandas import *   \n",
    "\n",
    "for j in range(0,NUMBER_OF_SIMULATIONS):\n",
    "    retorno = UNO.round(FIXED_INITIAL_CARD,simulation.initial_players_cards)\n",
    "    \n",
    "    if not FIXED_INITIAL_CARD:\n",
    "        simulation.FIRST_CARD = retorno.first_card\n",
    "        \n",
    "    df_simulation.at[j,'Simulation'] = j+1\n",
    "    df_simulation.at[j,'Ganhador'] = retorno.winner\n",
    "    df_simulation.at[j,'Player 0'] = str(retorno.first_players_hands[0])\n",
    "    df_simulation.at[j,'Player 1'] = str(retorno.first_players_hands[1])\n",
    "    df_simulation.at[j,'Player 2'] = str(retorno.first_players_hands[2])\n",
    "    df_simulation.at[j,'Player 3'] = str(retorno.first_players_hands[3])\n",
    "    df_simulation.at[j,'First Card of The Game'] = str(retorno.first_card)\n",
    "    df_simulation.at[j,'HMCCT - P0'] = str(simulation.calculating_probability_of_player_having_card_to_throw_on_hand(simulation.get_players_initial_cards()[0]))\n",
    "    df_simulation.at[j,'HMCCT - P1'] = str(simulation.calculating_probability_of_player_having_card_to_throw_on_hand(simulation.get_players_initial_cards()[1]))\n",
    "    df_simulation.at[j,'HMCCT - P2'] = str(simulation.calculating_probability_of_player_having_card_to_throw_on_hand(simulation.get_players_initial_cards()[2]))\n",
    "    df_simulation.at[j,'HMCCT - P3'] = str(simulation.calculating_probability_of_player_having_card_to_throw_on_hand(simulation.get_players_initial_cards()[3]))\n",
    "\n",
    "    simulation.update_for_new_simulation()\n",
    "    "
   ]
  },
  {
   "cell_type": "code",
   "execution_count": 71,
   "metadata": {},
   "outputs": [
    {
     "data": {
      "text/html": [
       "<div>\n",
       "<style scoped>\n",
       "    .dataframe tbody tr th:only-of-type {\n",
       "        vertical-align: middle;\n",
       "    }\n",
       "\n",
       "    .dataframe tbody tr th {\n",
       "        vertical-align: top;\n",
       "    }\n",
       "\n",
       "    .dataframe thead th {\n",
       "        text-align: right;\n",
       "    }\n",
       "</style>\n",
       "<table border=\"1\" class=\"dataframe\">\n",
       "  <thead>\n",
       "    <tr style=\"text-align: right;\">\n",
       "      <th></th>\n",
       "      <th>Simulation</th>\n",
       "      <th>Ganhador</th>\n",
       "      <th>Player 0</th>\n",
       "      <th>Player 1</th>\n",
       "      <th>Player 2</th>\n",
       "      <th>Player 3</th>\n",
       "      <th>First Card of The Game</th>\n",
       "      <th>HMCCT - P0</th>\n",
       "      <th>HMCCT - P1</th>\n",
       "      <th>HMCCT - P2</th>\n",
       "      <th>HMCCT - P3</th>\n",
       "    </tr>\n",
       "  </thead>\n",
       "  <tbody>\n",
       "    <tr>\n",
       "      <th>0</th>\n",
       "      <td>1.0</td>\n",
       "      <td>Player 3</td>\n",
       "      <td>['Card (C, yellow)', 'Card (8, green)', 'Card ...</td>\n",
       "      <td>['Card (R, yellow)', 'Card (R, red)', 'Card (0...</td>\n",
       "      <td>['Card (5, green)', 'Card (6, red)', 'Card (4,...</td>\n",
       "      <td>['Card (2, blue)', 'Card (W, blue)', 'Card (8,...</td>\n",
       "      <td>Card (X, blue)</td>\n",
       "      <td>4</td>\n",
       "      <td>0</td>\n",
       "      <td>2</td>\n",
       "      <td>3</td>\n",
       "    </tr>\n",
       "    <tr>\n",
       "      <th>1</th>\n",
       "      <td>2.0</td>\n",
       "      <td>Player 3</td>\n",
       "      <td>['Card (5, yellow)', 'Card (4, red)', 'Card (+...</td>\n",
       "      <td>['Card (8, blue)', 'Card (1, green)', 'Card (X...</td>\n",
       "      <td>['Card (W, red)', 'Card (2, green)', 'Card (+,...</td>\n",
       "      <td>['Card (2, red)', 'Card (3, yellow)', 'Card (5...</td>\n",
       "      <td>Card (9, red)</td>\n",
       "      <td>2</td>\n",
       "      <td>1</td>\n",
       "      <td>2</td>\n",
       "      <td>2</td>\n",
       "    </tr>\n",
       "  </tbody>\n",
       "</table>\n",
       "</div>"
      ],
      "text/plain": [
       "   Simulation  Ganhador                                           Player 0  \\\n",
       "0         1.0  Player 3  ['Card (C, yellow)', 'Card (8, green)', 'Card ...   \n",
       "1         2.0  Player 3  ['Card (5, yellow)', 'Card (4, red)', 'Card (+...   \n",
       "\n",
       "                                            Player 1  \\\n",
       "0  ['Card (R, yellow)', 'Card (R, red)', 'Card (0...   \n",
       "1  ['Card (8, blue)', 'Card (1, green)', 'Card (X...   \n",
       "\n",
       "                                            Player 2  \\\n",
       "0  ['Card (5, green)', 'Card (6, red)', 'Card (4,...   \n",
       "1  ['Card (W, red)', 'Card (2, green)', 'Card (+,...   \n",
       "\n",
       "                                            Player 3 First Card of The Game  \\\n",
       "0  ['Card (2, blue)', 'Card (W, blue)', 'Card (8,...         Card (X, blue)   \n",
       "1  ['Card (2, red)', 'Card (3, yellow)', 'Card (5...          Card (9, red)   \n",
       "\n",
       "  HMCCT - P0 HMCCT - P1 HMCCT - P2 HMCCT - P3  \n",
       "0          4          0          2          3  \n",
       "1          2          1          2          2  "
      ]
     },
     "execution_count": 71,
     "metadata": {},
     "output_type": "execute_result"
    }
   ],
   "source": [
    "df_simulation.head(2)"
   ]
  },
  {
   "cell_type": "markdown",
   "metadata": {},
   "source": [
    "Análise de Dados com mãos fixas"
   ]
  },
  {
   "cell_type": "code",
   "execution_count": 72,
   "metadata": {},
   "outputs": [],
   "source": [
    "import matplotlib.pyplot as plt\n",
    "import scipy.stats as stats\n",
    "import statistics"
   ]
  },
  {
   "cell_type": "code",
   "execution_count": 73,
   "metadata": {},
   "outputs": [],
   "source": [
    "amostra_non_fixed = list(df_simulation['Ganhador'].value_counts())\n",
    "mean_nf = statistics.mean(amostra_non_fixed)\n",
    "std_nf = statistics.stdev(amostra_non_fixed)\n",
    "\n",
    "amostra_fixed_hand = list(df_simulation['Ganhador'].value_counts())\n",
    "m = statistics.mean(amostra_fixed_hand)\n",
    "s = statistics.stdev(amostra_fixed_hand)\n",
    "normalDist = statistics.NormalDist(m,s)"
   ]
  },
  {
   "cell_type": "code",
   "execution_count": 79,
   "metadata": {},
   "outputs": [
    {
     "data": {
      "text/plain": [
       "[<matplotlib.lines.Line2D at 0x2484d756a10>]"
      ]
     },
     "execution_count": 79,
     "metadata": {},
     "output_type": "execute_result"
    },
    {
     "data": {
      "image/png": "[encoded data removed]",
      "text/plain": [
       "<Figure size 640x480 with 1 Axes>"
      ]
     },
     "metadata": {},
     "output_type": "display_data"
    }
   ],
   "source": [
    "\n",
    "plt.plot(amostra_fixed_hand,stats.norm.pdf(amostra_fixed_hand,m,s),'r')\n",
    "plt.plot(amostra_non_fixed,stats.norm.pdf(amostra_non_fixed,mean_nf,std_nf),'g')"
   ]
  },
  {
   "cell_type": "code",
   "execution_count": 43,
   "metadata": {},
   "outputs": [
    {
     "data": {
      "text/plain": [
       "[<matplotlib.lines.Line2D at 0x2484bd8e9d0>]"
      ]
     },
     "execution_count": 43,
     "metadata": {},
     "output_type": "execute_result"
    },
    {
     "data": {
      "image/png": "[encoded data removed]",
      "text/plain": [
       "<Figure size 640x480 with 1 Axes>"
      ]
     },
     "metadata": {},
     "output_type": "display_data"
    }
   ],
   "source": [
    "import matplotlib.pyplot as plt\n",
    "import scipy.stats as stats\n",
    "import statistics\n",
    "\n",
    "amostra_fixed_hand = list(df_simulation['Ganhador'].value_counts())\n",
    "m = statistics.mean(amostra_fixed_hand)\n",
    "s = statistics.stdev(amostra_fixed_hand)\n",
    "normalDist = statistics.NormalDist(m,s)\n",
    "\n",
    "plt.plot(amostra_fixed_hand,stats.norm.pdf(amostra_fixed_hand,m,s))\n"
   ]
  },
  {
   "cell_type": "markdown",
   "metadata": {},
   "source": [
    "<h5> All Simulations Overview  - DataSet </h5>"
   ]
  },
  {
   "cell_type": "code",
   "execution_count": null,
   "metadata": {},
   "outputs": [],
   "source": [
    "data_set_new_columns.at[0,'Simulation'] = 0\n",
    "data_set_new_columns.at[0,'Fixed Players Indexs'] = str(FIXED_INDEX_PLAYERS_CARDS)\n",
    "data_set_new_columns.at[0,'Number of Simulations'] = NUMBER_OF_SIMULATIONS\n",
    "data_set_new_columns.at[0,'G - Player 0'] = df_simulation['Ganhador'].value_counts()['Player 0']\n",
    "data_set_new_columns.at[0,'G - Player 1'] = df_simulation['Ganhador'].value_counts()['Player 1']\n",
    "data_set_new_columns.at[0,'G - Player 2'] = df_simulation['Ganhador'].value_counts()['Player 2']\n",
    "data_set_new_columns.at[0,'G - Player 3'] = df_simulation['Ganhador'].value_counts()['Player 3']\n",
    "data_set_new_columns.at[0,'Player 0'] = str(retorno.first_players_hands[0])\n",
    "data_set_new_columns.at[0,'Player 1'] = str(retorno.first_players_hands[1])\n",
    "data_set_new_columns.at[0,'Player 2'] = str(retorno.first_players_hands[2])\n",
    "data_set_new_columns.at[0,'Player 3'] = str(retorno.first_players_hands[3])\n",
    "data_set_new_columns.at[0,'(AC/NC) P0'] = str(simulation.verify_action_card(simulation.get_players_initial_cards()[0]))\n",
    "data_set_new_columns.at[0,'(AC/NC) P1'] = str(simulation.verify_action_card(simulation.get_players_initial_cards()[1]))\n",
    "data_set_new_columns.at[0,'(AC/NC) P2'] = str(simulation.verify_action_card(simulation.get_players_initial_cards()[2]))\n",
    "data_set_new_columns.at[0,'(AC/NC) P3'] = str(simulation.verify_action_card(simulation.get_players_initial_cards()[3]))\n",
    "data_set_new_columns.at[0,'First Card of The Game'] = str(retorno.first_card)\n",
    "data_set_new_columns = data_set_new_columns.set_index('Simulation')\n",
    "\n",
    "dataset = pd.concat([dataset_csv,data_set_new_columns],axis=0,ignore_index=False)\n",
    "dataset.to_csv('dataset/fixed_players_input.csv')"
   ]
  },
  {
   "cell_type": "code",
   "execution_count": null,
   "metadata": {},
   "outputs": [],
   "source": [
    "dataset.head(10)"
   ]
  }
 ],
 "metadata": {
  "kernelspec": {
   "display_name": "Python 3",
   "language": "python",
   "name": "python3"
  },
  "language_info": {
   "codemirror_mode": {
    "name": "ipython",
    "version": 3
   },
   "file_extension": ".py",
   "mimetype": "text/x-python",
   "name": "python",
   "nbconvert_exporter": "python",
   "pygments_lexer": "ipython3",
   "version": "3.11.5"
  }
 },
 "nbformat": 4,
 "nbformat_minor": 2
}
