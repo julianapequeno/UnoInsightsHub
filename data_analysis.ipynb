{
 "cells": [
  {
   "cell_type": "code",
   "execution_count": 20,
   "metadata": {},
   "outputs": [],
   "source": [
    "from src.UnoSimulation import UnoSimulation, SimulationInputData\n",
    "from tests.SimulationInputTest import SimulationInputTest\n",
    "from src.Machine import Machine\n",
    "from src.PlayerStrategy1 import PlayerStrategy1\n",
    "from src.CircularVector import CircularVector\n",
    "from src.ActionCards import ActionCard\n",
    "from src.Card import Card"
   ]
  },
  {
   "cell_type": "code",
   "execution_count": 22,
   "metadata": {},
   "outputs": [],
   "source": [
    "#importing input data, machine bot instance and players circular vector instance\n",
    "\n",
    "class Simulation:\n",
    "    def __init__(self,number_of_players):    \n",
    "        self.PLAYERS = self.generating_players()\n",
    "        self.number_of_players = number_of_players\n",
    "        self.bot = Machine()\n",
    "        self.CARDS_INPUT_SIMULATION = SimulationInputTest(self.number_of_players, self.bot) \n",
    "        \n",
    "    def generating_players(self) -> CircularVector:\n",
    "        PLAYERS = CircularVector(4)\n",
    "        \n",
    "        for i in range(0,4):\n",
    "            player_name = \"Player \"+str(i)\n",
    "            ia_player = PlayerStrategy1(player_name)\n",
    "            PLAYERS.add(ia_player)\n",
    "        return PLAYERS\n",
    "    \n",
    "    def generating_uno_simulation_data(self):      \n",
    "        self.initial_players_cards = self.generating_sample_players_cards()\n",
    "        simulation_data = SimulationInputData(self.bot,self.PLAYERS,self.number_of_players,self.initial_players_cards.copy())\n",
    "\n",
    "        return UnoSimulation(simulation_data)\n",
    "    \n",
    "    def generating_sample_players_cards(self):\n",
    "        return self.CARDS_INPUT_SIMULATION.test_one_aleatory_sample_players_hands() \n",
    "    \n",
    "    def get_game_first_card(self):\n",
    "        self.FIRST_CARD = self.CARDS_INPUT_SIMULATION.get_game_first_card()\n",
    "        return self.FIRST_CARD\n",
    "    \n",
    "    def verify_action_card(self,player_hand) -> tuple:\n",
    "        action_card_count = 0\n",
    "        normal_card_count = 0\n",
    "        \n",
    "        for card in player_hand:\n",
    "            if isinstance(card,ActionCard):\n",
    "                action_card_count += 1\n",
    "            else:\n",
    "                normal_card_count += 1\n",
    "        return (action_card_count,normal_card_count)\n",
    "    \n",
    "    def get_players_initial_cards(self):\n",
    "        return self.initial_players_cards\n",
    "    \n",
    "    def calculating_probability_of_player_having_card_to_throw_on_hand(self, player_cards):\n",
    "        count = 0\n",
    "        for card in player_cards:\n",
    "            if card.rank == self.FIRST_CARD.rank or card.color ==self.FIRST_CARD.color:\n",
    "                count += 1\n",
    "        return count\n",
    "            \n",
    "            "
   ]
  },
  {
   "cell_type": "markdown",
   "metadata": {},
   "source": [
    "Creating dataset"
   ]
  },
  {
   "cell_type": "code",
   "execution_count": 23,
   "metadata": {},
   "outputs": [
    {
     "name": "stdout",
     "output_type": "stream",
     "text": [
      "<class 'pandas.core.frame.DataFrame'>\n",
      "Index: 2 entries, 0.0 to 0.0\n",
      "Data columns (total 14 columns):\n",
      " #   Column                  Non-Null Count  Dtype  \n",
      "---  ------                  --------------  -----  \n",
      " 0   Number of Simulations   2 non-null      float64\n",
      " 1   G - Player 0            2 non-null      float64\n",
      " 2   G - Player 1            2 non-null      float64\n",
      " 3   G - Player 2            2 non-null      float64\n",
      " 4   G - Player 3            2 non-null      float64\n",
      " 5   Player 0                2 non-null      object \n",
      " 6   Player 1                2 non-null      object \n",
      " 7   Player 2                2 non-null      object \n",
      " 8   Player 3                2 non-null      object \n",
      " 9   (AC/NC) P0              2 non-null      object \n",
      " 10  (AC/NC) P1              2 non-null      object \n",
      " 11  (AC/NC) P2              2 non-null      object \n",
      " 12  (AC/NC) P3              2 non-null      object \n",
      " 13  First Card of The Game  2 non-null      object \n",
      "dtypes: float64(5), object(9)\n",
      "memory usage: 240.0+ bytes\n"
     ]
    }
   ],
   "source": [
    "import pandas as pd\n",
    "from pandas import *\n",
    "\n",
    "\n",
    "df_simulation = pd.DataFrame()\n",
    "\n",
    "dataset_csv = pd.read_csv('dataset/simulation_data.csv', header = 0, sep = ',', encoding = 'utf-8',engine='c')\n",
    "dataset_csv = dataset_csv.set_index('Simulation')\n",
    "\n",
    "data_set_new_columns = pd.DataFrame()\n",
    "\n",
    "dataset_csv.info()"
   ]
  },
  {
   "cell_type": "code",
   "execution_count": 24,
   "metadata": {},
   "outputs": [],
   "source": [
    "simulation = Simulation(number_of_players=4)\n",
    "UNO = simulation.generating_uno_simulation_data() \n",
    "game_first_card = simulation.get_game_first_card()\n",
    "number_of_simulations = 100"
   ]
  },
  {
   "cell_type": "markdown",
   "metadata": {},
   "source": [
    "<h5> Simulation DataSet - Fixing Players First Cards and Game's first card as inputs</h5>"
   ]
  },
  {
   "cell_type": "code",
   "execution_count": null,
   "metadata": {},
   "outputs": [],
   "source": [
    "from pandas import *   \n",
    "\n",
    "for j in range(0,number_of_simulations):\n",
    "    retorno = UNO.round(game_first_card)\n",
    "    \n",
    "    df_simulation.at[j,'Simulation'] = 1\n",
    "    df_simulation.at[j,'Ganhador'] = retorno.winner\n",
    "    df_simulation.at[j,'Player 0'] = str(retorno.first_players_hands[0])\n",
    "    df_simulation.at[j,'Player 1'] = str(retorno.first_players_hands[1])\n",
    "    df_simulation.at[j,'Player 2'] = str(retorno.first_players_hands[2])\n",
    "    df_simulation.at[j,'Player 3'] = str(retorno.first_players_hands[3])\n",
    "    df_simulation.at[j,'First Card of The Game'] = str(retorno.first_card)\n",
    "    df_simulation.at[j,'HMCCT - P0'] = str(simulation.calculating_probability_of_player_having_card_to_throw_on_hand(simulation.get_players_initial_cards()[0]))\n",
    "    df_simulation.at[j,'HMCCT - P1'] = str(simulation.calculating_probability_of_player_having_card_to_throw_on_hand(simulation.get_players_initial_cards()[1]))\n",
    "    df_simulation.at[j,'HMCCT - P2'] = str(simulation.calculating_probability_of_player_having_card_to_throw_on_hand(simulation.get_players_initial_cards()[2]))\n",
    "    df_simulation.at[j,'HMCCT - P3'] = str(simulation.calculating_probability_of_player_having_card_to_throw_on_hand(simulation.get_players_initial_cards()[3]))\n",
    "\n",
    "df_simulation.head(10)\n",
    "    "
   ]
  },
  {
   "cell_type": "code",
   "execution_count": 26,
   "metadata": {},
   "outputs": [
    {
     "data": {
      "text/plain": [
       "Simulation  Ganhador  Player 0                                                                                                                            Player 1                                                                                                                               Player 2                                                                                                                       Player 3                                                                                                                         First Card of The Game  HMCCT - P0  HMCCT - P1  HMCCT - P2  HMCCT - P3\n",
       "1.0         Player 0  ['Card (R, red)', 'Card (6, green)', 'Card (+, green)', 'Card (2, red)', 'Card (4, yellow)', 'Card (2, green)', 'Card (C, green)']  ['Card (5, blue)', 'Card (6, yellow)', 'Card (+, green)', 'Card (3, green)', 'Card (2, yellow)', 'Card (2, blue)', 'Card (W, green)']  ['Card (1, green)', 'Card (+, red)', 'Card (0, red)', 'Card (X, red)', 'Card (R, yellow)', 'Card (R, red)', 'Card (R, blue)']  ['Card (R, green)', 'Card (9, red)', 'Card (3, red)', 'Card (5, red)', 'Card (7, yellow)', 'Card (5, green)', 'Card (+, blue)']  Card (3, yellow)        1           3           1           2             39\n",
       "            Player 1  ['Card (R, red)', 'Card (6, green)', 'Card (+, green)', 'Card (2, red)', 'Card (4, yellow)', 'Card (2, green)', 'Card (C, green)']  ['Card (5, blue)', 'Card (6, yellow)', 'Card (+, green)', 'Card (3, green)', 'Card (2, yellow)', 'Card (2, blue)', 'Card (W, green)']  ['Card (1, green)', 'Card (+, red)', 'Card (0, red)', 'Card (X, red)', 'Card (R, yellow)', 'Card (R, red)', 'Card (R, blue)']  ['Card (R, green)', 'Card (9, red)', 'Card (3, red)', 'Card (5, red)', 'Card (7, yellow)', 'Card (5, green)', 'Card (+, blue)']  Card (3, yellow)        1           3           1           2             22\n",
       "            Player 3  ['Card (R, red)', 'Card (6, green)', 'Card (+, green)', 'Card (2, red)', 'Card (4, yellow)', 'Card (2, green)', 'Card (C, green)']  ['Card (5, blue)', 'Card (6, yellow)', 'Card (+, green)', 'Card (3, green)', 'Card (2, yellow)', 'Card (2, blue)', 'Card (W, green)']  ['Card (1, green)', 'Card (+, red)', 'Card (0, red)', 'Card (X, red)', 'Card (R, yellow)', 'Card (R, red)', 'Card (R, blue)']  ['Card (R, green)', 'Card (9, red)', 'Card (3, red)', 'Card (5, red)', 'Card (7, yellow)', 'Card (5, green)', 'Card (+, blue)']  Card (3, yellow)        1           3           1           2             20\n",
       "            Player 2  ['Card (R, red)', 'Card (6, green)', 'Card (+, green)', 'Card (2, red)', 'Card (4, yellow)', 'Card (2, green)', 'Card (C, green)']  ['Card (5, blue)', 'Card (6, yellow)', 'Card (+, green)', 'Card (3, green)', 'Card (2, yellow)', 'Card (2, blue)', 'Card (W, green)']  ['Card (1, green)', 'Card (+, red)', 'Card (0, red)', 'Card (X, red)', 'Card (R, yellow)', 'Card (R, red)', 'Card (R, blue)']  ['Card (R, green)', 'Card (9, red)', 'Card (3, red)', 'Card (5, red)', 'Card (7, yellow)', 'Card (5, green)', 'Card (+, blue)']  Card (3, yellow)        1           3           1           2             19\n",
       "Name: count, dtype: int64"
      ]
     },
     "execution_count": 26,
     "metadata": {},
     "output_type": "execute_result"
    }
   ],
   "source": [
    "df_simulation.value_counts()"
   ]
  },
  {
   "cell_type": "code",
   "execution_count": null,
   "metadata": {},
   "outputs": [],
   "source": [
    "retorno.first_players_hands"
   ]
  },
  {
   "cell_type": "code",
   "execution_count": 28,
   "metadata": {},
   "outputs": [
    {
     "data": {
      "text/plain": [
       "Ganhador\n",
       "Player 0    39\n",
       "Player 1    22\n",
       "Player 3    20\n",
       "Player 2    19\n",
       "Name: count, dtype: int64"
      ]
     },
     "execution_count": 28,
     "metadata": {},
     "output_type": "execute_result"
    }
   ],
   "source": [
    "df_simulation['Ganhador'].value_counts()"
   ]
  },
  {
   "cell_type": "markdown",
   "metadata": {},
   "source": [
    "<h5> All Simulations Overview  - DataSet </h5>"
   ]
  },
  {
   "cell_type": "code",
   "execution_count": null,
   "metadata": {},
   "outputs": [],
   "source": [
    "data_set_new_columns.at[0,'Simulation'] = 0\n",
    "data_set_new_columns.at[0,'Number of Simulations'] = number_of_simulations\n",
    "data_set_new_columns.at[0,'G - Player 0'] = df_simulation['Ganhador'].value_counts()['Player 0']\n",
    "data_set_new_columns.at[0,'G - Player 1'] = df_simulation['Ganhador'].value_counts()['Player 1']\n",
    "data_set_new_columns.at[0,'G - Player 2'] = df_simulation['Ganhador'].value_counts()['Player 2']\n",
    "data_set_new_columns.at[0,'G - Player 3'] = df_simulation['Ganhador'].value_counts()['Player 3']\n",
    "data_set_new_columns.at[0,'Player 0'] = str(retorno.first_players_hands[0])\n",
    "data_set_new_columns.at[0,'Player 1'] = str(retorno.first_players_hands[1])\n",
    "data_set_new_columns.at[0,'Player 2'] = str(retorno.first_players_hands[2])\n",
    "data_set_new_columns.at[0,'Player 3'] = str(retorno.first_players_hands[3])\n",
    "data_set_new_columns.at[0,'(AC/NC) P0'] = str(simulation.verify_action_card(simulation.get_players_initial_cards()[0]))\n",
    "data_set_new_columns.at[0,'(AC/NC) P1'] = str(simulation.verify_action_card(simulation.get_players_initial_cards()[1]))\n",
    "data_set_new_columns.at[0,'(AC/NC) P2'] = str(simulation.verify_action_card(simulation.get_players_initial_cards()[2]))\n",
    "data_set_new_columns.at[0,'(AC/NC) P3'] = str(simulation.verify_action_card(simulation.get_players_initial_cards()[3]))\n",
    "data_set_new_columns.at[0,'First Card of The Game'] = str(retorno.first_card)\n",
    "data_set_new_columns = data_set_new_columns.set_index('Simulation')\n",
    "\n",
    "dataset = pd.concat([dataset_csv,data_set_new_columns],axis=0,ignore_index=False)\n",
    "dataset.to_csv('dataset/simulation_data.csv')"
   ]
  },
  {
   "cell_type": "code",
   "execution_count": 30,
   "metadata": {},
   "outputs": [
    {
     "data": {
      "text/html": [
       "<div>\n",
       "<style scoped>\n",
       "    .dataframe tbody tr th:only-of-type {\n",
       "        vertical-align: middle;\n",
       "    }\n",
       "\n",
       "    .dataframe tbody tr th {\n",
       "        vertical-align: top;\n",
       "    }\n",
       "\n",
       "    .dataframe thead th {\n",
       "        text-align: right;\n",
       "    }\n",
       "</style>\n",
       "<table border=\"1\" class=\"dataframe\">\n",
       "  <thead>\n",
       "    <tr style=\"text-align: right;\">\n",
       "      <th></th>\n",
       "      <th>Number of Simulations</th>\n",
       "      <th>G - Player 0</th>\n",
       "      <th>G - Player 1</th>\n",
       "      <th>G - Player 2</th>\n",
       "      <th>G - Player 3</th>\n",
       "      <th>Player 0</th>\n",
       "      <th>Player 1</th>\n",
       "      <th>Player 2</th>\n",
       "      <th>Player 3</th>\n",
       "      <th>(AC/NC) P0</th>\n",
       "      <th>(AC/NC) P1</th>\n",
       "      <th>(AC/NC) P2</th>\n",
       "      <th>(AC/NC) P3</th>\n",
       "      <th>First Card of The Game</th>\n",
       "    </tr>\n",
       "    <tr>\n",
       "      <th>Simulation</th>\n",
       "      <th></th>\n",
       "      <th></th>\n",
       "      <th></th>\n",
       "      <th></th>\n",
       "      <th></th>\n",
       "      <th></th>\n",
       "      <th></th>\n",
       "      <th></th>\n",
       "      <th></th>\n",
       "      <th></th>\n",
       "      <th></th>\n",
       "      <th></th>\n",
       "      <th></th>\n",
       "      <th></th>\n",
       "    </tr>\n",
       "  </thead>\n",
       "  <tbody>\n",
       "    <tr>\n",
       "      <th>0.0</th>\n",
       "      <td>60.0</td>\n",
       "      <td>15.0</td>\n",
       "      <td>13.0</td>\n",
       "      <td>17.0</td>\n",
       "      <td>15.0</td>\n",
       "      <td>['Card (X, yellow)', 'Card (C, blue)', 'Card (...</td>\n",
       "      <td>['Card (C, yellow)', 'Card (+, green)', 'Card ...</td>\n",
       "      <td>['Card (0, yellow)', 'Card (2, green)', 'Card ...</td>\n",
       "      <td>['Card (X, blue)', 'Card (X, blue)', 'Card (R,...</td>\n",
       "      <td>(2, 5)</td>\n",
       "      <td>(5, 2)</td>\n",
       "      <td>(0, 7)</td>\n",
       "      <td>(4, 3)</td>\n",
       "      <td>Card (9, blue)</td>\n",
       "    </tr>\n",
       "    <tr>\n",
       "      <th>0.0</th>\n",
       "      <td>100.0</td>\n",
       "      <td>29.0</td>\n",
       "      <td>25.0</td>\n",
       "      <td>21.0</td>\n",
       "      <td>25.0</td>\n",
       "      <td>['Card (4, yellow)', 'Card (6, green)', 'Card ...</td>\n",
       "      <td>['Card (8, yellow)', 'Card (W, red)', 'Card (4...</td>\n",
       "      <td>['Card (2, yellow)', 'Card (R, blue)', 'Card (...</td>\n",
       "      <td>['Card (7, red)', 'Card (2, blue)', 'Card (5, ...</td>\n",
       "      <td>(1, 6)</td>\n",
       "      <td>(3, 4)</td>\n",
       "      <td>(2, 5)</td>\n",
       "      <td>(3, 4)</td>\n",
       "      <td>Card (3, yellow)</td>\n",
       "    </tr>\n",
       "    <tr>\n",
       "      <th>0.0</th>\n",
       "      <td>100.0</td>\n",
       "      <td>39.0</td>\n",
       "      <td>22.0</td>\n",
       "      <td>19.0</td>\n",
       "      <td>20.0</td>\n",
       "      <td>['Card (R, red)', 'Card (6, green)', 'Card (+,...</td>\n",
       "      <td>['Card (5, blue)', 'Card (6, yellow)', 'Card (...</td>\n",
       "      <td>['Card (1, green)', 'Card (+, red)', 'Card (0,...</td>\n",
       "      <td>['Card (R, green)', 'Card (9, red)', 'Card (3,...</td>\n",
       "      <td>(2, 5)</td>\n",
       "      <td>(2, 5)</td>\n",
       "      <td>(5, 2)</td>\n",
       "      <td>(2, 5)</td>\n",
       "      <td>Card (3, yellow)</td>\n",
       "    </tr>\n",
       "  </tbody>\n",
       "</table>\n",
       "</div>"
      ],
      "text/plain": [
       "            Number of Simulations  G - Player 0  G - Player 1  G - Player 2  \\\n",
       "Simulation                                                                    \n",
       "0.0                          60.0          15.0          13.0          17.0   \n",
       "0.0                         100.0          29.0          25.0          21.0   \n",
       "0.0                         100.0          39.0          22.0          19.0   \n",
       "\n",
       "            G - Player 3                                           Player 0  \\\n",
       "Simulation                                                                    \n",
       "0.0                 15.0  ['Card (X, yellow)', 'Card (C, blue)', 'Card (...   \n",
       "0.0                 25.0  ['Card (4, yellow)', 'Card (6, green)', 'Card ...   \n",
       "0.0                 20.0  ['Card (R, red)', 'Card (6, green)', 'Card (+,...   \n",
       "\n",
       "                                                     Player 1  \\\n",
       "Simulation                                                      \n",
       "0.0         ['Card (C, yellow)', 'Card (+, green)', 'Card ...   \n",
       "0.0         ['Card (8, yellow)', 'Card (W, red)', 'Card (4...   \n",
       "0.0         ['Card (5, blue)', 'Card (6, yellow)', 'Card (...   \n",
       "\n",
       "                                                     Player 2  \\\n",
       "Simulation                                                      \n",
       "0.0         ['Card (0, yellow)', 'Card (2, green)', 'Card ...   \n",
       "0.0         ['Card (2, yellow)', 'Card (R, blue)', 'Card (...   \n",
       "0.0         ['Card (1, green)', 'Card (+, red)', 'Card (0,...   \n",
       "\n",
       "                                                     Player 3 (AC/NC) P0  \\\n",
       "Simulation                                                                 \n",
       "0.0         ['Card (X, blue)', 'Card (X, blue)', 'Card (R,...     (2, 5)   \n",
       "0.0         ['Card (7, red)', 'Card (2, blue)', 'Card (5, ...     (1, 6)   \n",
       "0.0         ['Card (R, green)', 'Card (9, red)', 'Card (3,...     (2, 5)   \n",
       "\n",
       "           (AC/NC) P1 (AC/NC) P2 (AC/NC) P3 First Card of The Game  \n",
       "Simulation                                                          \n",
       "0.0            (5, 2)     (0, 7)     (4, 3)         Card (9, blue)  \n",
       "0.0            (3, 4)     (2, 5)     (3, 4)       Card (3, yellow)  \n",
       "0.0            (2, 5)     (5, 2)     (2, 5)       Card (3, yellow)  "
      ]
     },
     "execution_count": 30,
     "metadata": {},
     "output_type": "execute_result"
    }
   ],
   "source": [
    "dataset.head(10)"
   ]
  }
 ],
 "metadata": {
  "kernelspec": {
   "display_name": "Python 3",
   "language": "python",
   "name": "python3"
  },
  "language_info": {
   "codemirror_mode": {
    "name": "ipython",
    "version": 3
   },
   "file_extension": ".py",
   "mimetype": "text/x-python",
   "name": "python",
   "nbconvert_exporter": "python",
   "pygments_lexer": "ipython3",
   "version": "3.11.5"
  }
 },
 "nbformat": 4,
 "nbformat_minor": 2
}
