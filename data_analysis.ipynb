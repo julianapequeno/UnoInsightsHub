{
 "cells": [
  {
   "cell_type": "code",
   "execution_count": 6,
   "metadata": {},
   "outputs": [],
   "source": [
    "import pandas as pd\n",
    "from src.UnoSimulation import UnoSimulation, SimulationInputData\n",
    "from src.TestSimulationInput import PlayersHandsSimulationTest\n",
    "from src.Machine import Machine\n",
    "from src.PlayerStrategy1 import PlayerStrategy1\n",
    "from src.CircularVector import CircularVector\n",
    "\n",
    "df = pd.DataFrame()"
   ]
  },
  {
   "cell_type": "code",
   "execution_count": 7,
   "metadata": {},
   "outputs": [],
   "source": [
    "#importing input data, machine bot instance and players circular vector instance\n",
    "def sample_players_first_hands( number, bot):       \n",
    "    TEST_ONE_ = PlayersHandsSimulationTest(number, bot) \n",
    "    hands_of_players_test_ONE = TEST_ONE_.test_one_aleatory_sample_players_hands() \n",
    "    return hands_of_players_test_ONE\n",
    "\n",
    "UNO_MACHINE = Machine()\n",
    "PLAYERS = CircularVector(4)\n",
    "\n",
    "players_cards = sample_players_first_hands(4,UNO_MACHINE)\n",
    "\n",
    "for i in range(0,4):\n",
    "    player_name = \"Player \"+str(i)\n",
    "    ia_player = PlayerStrategy1(player_name)\n",
    "    PLAYERS.add(ia_player)\n"
   ]
  },
  {
   "cell_type": "code",
   "execution_count": 8,
   "metadata": {},
   "outputs": [
    {
     "name": "stdout",
     "output_type": "stream",
     "text": [
      "iUp\n"
     ]
    }
   ],
   "source": [
    "#giving simulation data to Uno\n",
    "simulation_data = SimulationInputData(UNO_MACHINE,PLAYERS,4,players_cards)\n",
    "\n",
    "uno = UnoSimulation(simulation_data)"
   ]
  },
  {
   "cell_type": "code",
   "execution_count": 9,
   "metadata": {},
   "outputs": [
    {
     "name": "stdout",
     "output_type": "stream",
     "text": [
      "0\n",
      "2\n",
      "1\n",
      "0\n",
      "1\n",
      "1\n",
      "0\n",
      "0\n",
      "1\n",
      "1\n"
     ]
    },
    {
     "name": "stderr",
     "output_type": "stream",
     "text": [
      "C:\\Users\\DELL\\AppData\\Local\\Temp\\ipykernel_9140\\2888798994.py:9: FutureWarning: Setting an item of incompatible dtype is deprecated and will raise in a future error of pandas. Value 'Player 0' has dtype incompatible with float64, please explicitly cast to a compatible dtype first.\n",
      "  df.at[j,'Ganhador'] = name_winner\n"
     ]
    }
   ],
   "source": [
    "#creating dataset \n",
    "\n",
    "for j in range(0,10):\n",
    "    df.at[j,'Simulation'] = 1\n",
    "    retorno = uno.round()\n",
    "\n",
    "    name_winner = retorno.winner\n",
    "\n",
    "    df.at[j,'Ganhador'] = name_winner\n",
    "    df.at[j,'Player 0'] = len(retorno.first_players_hands[0])\n",
    "    df.at[j,'Player 1'] = len(retorno.first_players_hands[1])\n",
    "    df.at[j,'Player 2'] = len(retorno.first_players_hands[2])\n",
    "    df.at[j,'Player 3'] = len(retorno.first_players_hands[3])\n",
    "    "
   ]
  },
  {
   "cell_type": "code",
   "execution_count": 10,
   "metadata": {},
   "outputs": [
    {
     "data": {
      "text/html": [
       "<div>\n",
       "<style scoped>\n",
       "    .dataframe tbody tr th:only-of-type {\n",
       "        vertical-align: middle;\n",
       "    }\n",
       "\n",
       "    .dataframe tbody tr th {\n",
       "        vertical-align: top;\n",
       "    }\n",
       "\n",
       "    .dataframe thead th {\n",
       "        text-align: right;\n",
       "    }\n",
       "</style>\n",
       "<table border=\"1\" class=\"dataframe\">\n",
       "  <thead>\n",
       "    <tr style=\"text-align: right;\">\n",
       "      <th></th>\n",
       "      <th>Simulation</th>\n",
       "      <th>Ganhador</th>\n",
       "      <th>Player 0</th>\n",
       "      <th>Player 1</th>\n",
       "      <th>Player 2</th>\n",
       "      <th>Player 3</th>\n",
       "    </tr>\n",
       "  </thead>\n",
       "  <tbody>\n",
       "    <tr>\n",
       "      <th>0</th>\n",
       "      <td>1.0</td>\n",
       "      <td>Player 0</td>\n",
       "      <td>6.0</td>\n",
       "      <td>6.0</td>\n",
       "      <td>6.0</td>\n",
       "      <td>6.0</td>\n",
       "    </tr>\n",
       "    <tr>\n",
       "      <th>1</th>\n",
       "      <td>1.0</td>\n",
       "      <td>Player 1</td>\n",
       "      <td>4.0</td>\n",
       "      <td>4.0</td>\n",
       "      <td>4.0</td>\n",
       "      <td>4.0</td>\n",
       "    </tr>\n",
       "    <tr>\n",
       "      <th>2</th>\n",
       "      <td>1.0</td>\n",
       "      <td>Player 1</td>\n",
       "      <td>2.0</td>\n",
       "      <td>2.0</td>\n",
       "      <td>2.0</td>\n",
       "      <td>2.0</td>\n",
       "    </tr>\n",
       "    <tr>\n",
       "      <th>3</th>\n",
       "      <td>1.0</td>\n",
       "      <td>Player 3</td>\n",
       "      <td>0.0</td>\n",
       "      <td>0.0</td>\n",
       "      <td>0.0</td>\n",
       "      <td>0.0</td>\n",
       "    </tr>\n",
       "    <tr>\n",
       "      <th>4</th>\n",
       "      <td>1.0</td>\n",
       "      <td>Player 1</td>\n",
       "      <td>2.0</td>\n",
       "      <td>2.0</td>\n",
       "      <td>2.0</td>\n",
       "      <td>2.0</td>\n",
       "    </tr>\n",
       "    <tr>\n",
       "      <th>5</th>\n",
       "      <td>1.0</td>\n",
       "      <td>Player 2</td>\n",
       "      <td>1.0</td>\n",
       "      <td>1.0</td>\n",
       "      <td>1.0</td>\n",
       "      <td>1.0</td>\n",
       "    </tr>\n",
       "    <tr>\n",
       "      <th>6</th>\n",
       "      <td>1.0</td>\n",
       "      <td>Player 3</td>\n",
       "      <td>0.0</td>\n",
       "      <td>0.0</td>\n",
       "      <td>0.0</td>\n",
       "      <td>0.0</td>\n",
       "    </tr>\n",
       "    <tr>\n",
       "      <th>7</th>\n",
       "      <td>1.0</td>\n",
       "      <td>Player 3</td>\n",
       "      <td>0.0</td>\n",
       "      <td>0.0</td>\n",
       "      <td>0.0</td>\n",
       "      <td>0.0</td>\n",
       "    </tr>\n",
       "    <tr>\n",
       "      <th>8</th>\n",
       "      <td>1.0</td>\n",
       "      <td>Player 0</td>\n",
       "      <td>3.0</td>\n",
       "      <td>3.0</td>\n",
       "      <td>3.0</td>\n",
       "      <td>3.0</td>\n",
       "    </tr>\n",
       "    <tr>\n",
       "      <th>9</th>\n",
       "      <td>1.0</td>\n",
       "      <td>Player 2</td>\n",
       "      <td>1.0</td>\n",
       "      <td>1.0</td>\n",
       "      <td>1.0</td>\n",
       "      <td>1.0</td>\n",
       "    </tr>\n",
       "  </tbody>\n",
       "</table>\n",
       "</div>"
      ],
      "text/plain": [
       "   Simulation  Ganhador  Player 0  Player 1  Player 2  Player 3\n",
       "0         1.0  Player 0       6.0       6.0       6.0       6.0\n",
       "1         1.0  Player 1       4.0       4.0       4.0       4.0\n",
       "2         1.0  Player 1       2.0       2.0       2.0       2.0\n",
       "3         1.0  Player 3       0.0       0.0       0.0       0.0\n",
       "4         1.0  Player 1       2.0       2.0       2.0       2.0\n",
       "5         1.0  Player 2       1.0       1.0       1.0       1.0\n",
       "6         1.0  Player 3       0.0       0.0       0.0       0.0\n",
       "7         1.0  Player 3       0.0       0.0       0.0       0.0\n",
       "8         1.0  Player 0       3.0       3.0       3.0       3.0\n",
       "9         1.0  Player 2       1.0       1.0       1.0       1.0"
      ]
     },
     "execution_count": 10,
     "metadata": {},
     "output_type": "execute_result"
    }
   ],
   "source": [
    "df.head(10)"
   ]
  },
  {
   "cell_type": "markdown",
   "metadata": {},
   "source": []
  }
 ],
 "metadata": {
  "kernelspec": {
   "display_name": "Python 3",
   "language": "python",
   "name": "python3"
  },
  "language_info": {
   "codemirror_mode": {
    "name": "ipython",
    "version": 3
   },
   "file_extension": ".py",
   "mimetype": "text/x-python",
   "name": "python",
   "nbconvert_exporter": "python",
   "pygments_lexer": "ipython3",
   "version": "3.9.13"
  }
 },
 "nbformat": 4,
 "nbformat_minor": 2
}
