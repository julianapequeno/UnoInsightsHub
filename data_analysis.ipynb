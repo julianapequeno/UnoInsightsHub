{
 "cells": [
  {
   "cell_type": "code",
   "execution_count": 124,
   "metadata": {},
   "outputs": [],
   "source": [
    "import pandas as pd\n",
    "from src.UnoSimulation import UnoSimulation, SimulationInputData\n",
    "from src.TestSimulationInput import PlayersHandsSimulationTest\n",
    "from src.Machine import Machine\n",
    "from src.PlayerStrategy1 import PlayerStrategy1\n",
    "from src.CircularVector import CircularVector\n",
    "from src.ActionCards import ActionCard\n",
    "from src.Card import Card\n",
    "\n",
    "df = pd.DataFrame()"
   ]
  },
  {
   "cell_type": "code",
   "execution_count": 134,
   "metadata": {},
   "outputs": [],
   "source": [
    "#importing input data, machine bot instance and players circular vector instance\n",
    "\n",
    "class Simulation:\n",
    "    def __init__(self,number_of_players):    \n",
    "        self.PLAYERS = generating_players()\n",
    "        self.number_of_players = number_of_players\n",
    "        self.bot = Machine()\n",
    "    \n",
    "    def generating_players(self) -> CircularVector:\n",
    "        PLAYERS = CircularVector(4)\n",
    "        \n",
    "        for i in range(0,4):\n",
    "            player_name = \"Player \"+str(i)\n",
    "            ia_player = PlayerStrategy1(player_name)\n",
    "            PLAYERS.add(ia_player)\n",
    "        return PLAYERS\n",
    "    \n",
    "    def generating_uno_simulation_data(self):       \n",
    "        initial_players_cards = self.generating_sample_players_cards()\n",
    "        simulation_data = SimulationInputData(self.bot,self.PLAYERS,self.number_of_players,initial_players_cards.copy())\n",
    "\n",
    "        return UnoSimulation(simulation_data)\n",
    "    \n",
    "    def generating_sample_players_cards(self):\n",
    "        number = self.number_of_players\n",
    "        bot = self.bot       \n",
    "        \n",
    "        CARDS_INPUT_SIMULATION = PlayersHandsSimulationTest(number, bot) \n",
    "        return  CARDS_INPUT_SIMULATION.test_one_aleatory_sample_players_hands() \n",
    "\n",
    "    def verify_action_card(self,player_hand) -> tuple:\n",
    "        action_card_count = 0\n",
    "        normal_card_count = 0\n",
    "        \n",
    "        for card in player_hand:\n",
    "            if isinstance(card,ActionCard):\n",
    "                action_card_count += 1\n",
    "            else:\n",
    "                normal_card_count += 1\n",
    "        return (action_card_count,normal_card_count)\n",
    "            \n",
    "            "
   ]
  },
  {
   "cell_type": "code",
   "execution_count": 135,
   "metadata": {},
   "outputs": [],
   "source": [
    "simulation = Simulation(number_of_players=4)\n",
    "uno = simulation.generating_uno_simulation_data()"
   ]
  },
  {
   "cell_type": "code",
   "execution_count": 136,
   "metadata": {},
   "outputs": [],
   "source": [
    "#simulating n times\n",
    "\n",
    "#for i in range(0,100):\n",
    " #   simulation = uno.round()\n",
    "    \n",
    "\n",
    "#creating dataset \n",
    "for j in range(0,100):\n",
    "    df.at[j,'Simulation'] = 1\n",
    "    retorno = uno.round()\n",
    "\n",
    "    name_winner = retorno.winner\n",
    "\n",
    "    df.at[j,'Ganhador'] = name_winner\n",
    "    df.at[j,'Player 0'] = str(retorno.first_players_hands[0])\n",
    "    df.at[j,'Player 1'] = str(retorno.first_players_hands[1])\n",
    "    df.at[j,'Player 2'] = str(retorno.first_players_hands[2])\n",
    "    df.at[j,'Player 3'] = str(retorno.first_players_hands[3])\n",
    "    "
   ]
  },
  {
   "cell_type": "code",
   "execution_count": 137,
   "metadata": {},
   "outputs": [
    {
     "data": {
      "text/html": [
       "<div>\n",
       "<style scoped>\n",
       "    .dataframe tbody tr th:only-of-type {\n",
       "        vertical-align: middle;\n",
       "    }\n",
       "\n",
       "    .dataframe tbody tr th {\n",
       "        vertical-align: top;\n",
       "    }\n",
       "\n",
       "    .dataframe thead th {\n",
       "        text-align: right;\n",
       "    }\n",
       "</style>\n",
       "<table border=\"1\" class=\"dataframe\">\n",
       "  <thead>\n",
       "    <tr style=\"text-align: right;\">\n",
       "      <th></th>\n",
       "      <th>Simulation</th>\n",
       "      <th>Ganhador</th>\n",
       "      <th>Player 0</th>\n",
       "      <th>Player 1</th>\n",
       "      <th>Player 2</th>\n",
       "      <th>Player 3</th>\n",
       "    </tr>\n",
       "  </thead>\n",
       "  <tbody>\n",
       "    <tr>\n",
       "      <th>0</th>\n",
       "      <td>1.0</td>\n",
       "      <td>Player 2</td>\n",
       "      <td>['Card (R, red)', 'Card (X, yellow)', 'Card (4...</td>\n",
       "      <td>['Card (5, blue)', 'Card (9, red)', 'Card (R, ...</td>\n",
       "      <td>['Card (X, blue)', 'Card (R, yellow)', 'Card (...</td>\n",
       "      <td>['Card (8, red)', 'Card (7, green)', 'Card (C,...</td>\n",
       "    </tr>\n",
       "    <tr>\n",
       "      <th>1</th>\n",
       "      <td>1.0</td>\n",
       "      <td>Player 3</td>\n",
       "      <td>['Card (R, red)', 'Card (X, yellow)', 'Card (4...</td>\n",
       "      <td>['Card (5, blue)', 'Card (9, red)', 'Card (R, ...</td>\n",
       "      <td>['Card (X, blue)', 'Card (R, yellow)', 'Card (...</td>\n",
       "      <td>['Card (8, red)', 'Card (7, green)', 'Card (C,...</td>\n",
       "    </tr>\n",
       "    <tr>\n",
       "      <th>2</th>\n",
       "      <td>1.0</td>\n",
       "      <td>Player 2</td>\n",
       "      <td>['Card (R, red)', 'Card (X, yellow)', 'Card (4...</td>\n",
       "      <td>['Card (5, blue)', 'Card (9, red)', 'Card (R, ...</td>\n",
       "      <td>['Card (X, blue)', 'Card (R, yellow)', 'Card (...</td>\n",
       "      <td>['Card (8, red)', 'Card (7, green)', 'Card (C,...</td>\n",
       "    </tr>\n",
       "    <tr>\n",
       "      <th>3</th>\n",
       "      <td>1.0</td>\n",
       "      <td>Player 1</td>\n",
       "      <td>['Card (R, red)', 'Card (X, yellow)', 'Card (4...</td>\n",
       "      <td>['Card (5, blue)', 'Card (9, red)', 'Card (R, ...</td>\n",
       "      <td>['Card (X, blue)', 'Card (R, yellow)', 'Card (...</td>\n",
       "      <td>['Card (8, red)', 'Card (7, green)', 'Card (C,...</td>\n",
       "    </tr>\n",
       "    <tr>\n",
       "      <th>4</th>\n",
       "      <td>1.0</td>\n",
       "      <td>Player 1</td>\n",
       "      <td>['Card (R, red)', 'Card (X, yellow)', 'Card (4...</td>\n",
       "      <td>['Card (5, blue)', 'Card (9, red)', 'Card (R, ...</td>\n",
       "      <td>['Card (X, blue)', 'Card (R, yellow)', 'Card (...</td>\n",
       "      <td>['Card (8, red)', 'Card (7, green)', 'Card (C,...</td>\n",
       "    </tr>\n",
       "    <tr>\n",
       "      <th>5</th>\n",
       "      <td>1.0</td>\n",
       "      <td>Player 1</td>\n",
       "      <td>['Card (R, red)', 'Card (X, yellow)', 'Card (4...</td>\n",
       "      <td>['Card (5, blue)', 'Card (9, red)', 'Card (R, ...</td>\n",
       "      <td>['Card (X, blue)', 'Card (R, yellow)', 'Card (...</td>\n",
       "      <td>['Card (8, red)', 'Card (7, green)', 'Card (C,...</td>\n",
       "    </tr>\n",
       "    <tr>\n",
       "      <th>6</th>\n",
       "      <td>1.0</td>\n",
       "      <td>Player 1</td>\n",
       "      <td>['Card (R, red)', 'Card (X, yellow)', 'Card (4...</td>\n",
       "      <td>['Card (5, blue)', 'Card (9, red)', 'Card (R, ...</td>\n",
       "      <td>['Card (X, blue)', 'Card (R, yellow)', 'Card (...</td>\n",
       "      <td>['Card (8, red)', 'Card (7, green)', 'Card (C,...</td>\n",
       "    </tr>\n",
       "    <tr>\n",
       "      <th>7</th>\n",
       "      <td>1.0</td>\n",
       "      <td>Player 0</td>\n",
       "      <td>['Card (R, red)', 'Card (X, yellow)', 'Card (4...</td>\n",
       "      <td>['Card (5, blue)', 'Card (9, red)', 'Card (R, ...</td>\n",
       "      <td>['Card (X, blue)', 'Card (R, yellow)', 'Card (...</td>\n",
       "      <td>['Card (8, red)', 'Card (7, green)', 'Card (C,...</td>\n",
       "    </tr>\n",
       "    <tr>\n",
       "      <th>8</th>\n",
       "      <td>1.0</td>\n",
       "      <td>Player 2</td>\n",
       "      <td>['Card (R, red)', 'Card (X, yellow)', 'Card (4...</td>\n",
       "      <td>['Card (5, blue)', 'Card (9, red)', 'Card (R, ...</td>\n",
       "      <td>['Card (X, blue)', 'Card (R, yellow)', 'Card (...</td>\n",
       "      <td>['Card (8, red)', 'Card (7, green)', 'Card (C,...</td>\n",
       "    </tr>\n",
       "    <tr>\n",
       "      <th>9</th>\n",
       "      <td>1.0</td>\n",
       "      <td>Player 1</td>\n",
       "      <td>['Card (R, red)', 'Card (X, yellow)', 'Card (4...</td>\n",
       "      <td>['Card (5, blue)', 'Card (9, red)', 'Card (R, ...</td>\n",
       "      <td>['Card (X, blue)', 'Card (R, yellow)', 'Card (...</td>\n",
       "      <td>['Card (8, red)', 'Card (7, green)', 'Card (C,...</td>\n",
       "    </tr>\n",
       "  </tbody>\n",
       "</table>\n",
       "</div>"
      ],
      "text/plain": [
       "   Simulation  Ganhador                                           Player 0  \\\n",
       "0         1.0  Player 2  ['Card (R, red)', 'Card (X, yellow)', 'Card (4...   \n",
       "1         1.0  Player 3  ['Card (R, red)', 'Card (X, yellow)', 'Card (4...   \n",
       "2         1.0  Player 2  ['Card (R, red)', 'Card (X, yellow)', 'Card (4...   \n",
       "3         1.0  Player 1  ['Card (R, red)', 'Card (X, yellow)', 'Card (4...   \n",
       "4         1.0  Player 1  ['Card (R, red)', 'Card (X, yellow)', 'Card (4...   \n",
       "5         1.0  Player 1  ['Card (R, red)', 'Card (X, yellow)', 'Card (4...   \n",
       "6         1.0  Player 1  ['Card (R, red)', 'Card (X, yellow)', 'Card (4...   \n",
       "7         1.0  Player 0  ['Card (R, red)', 'Card (X, yellow)', 'Card (4...   \n",
       "8         1.0  Player 2  ['Card (R, red)', 'Card (X, yellow)', 'Card (4...   \n",
       "9         1.0  Player 1  ['Card (R, red)', 'Card (X, yellow)', 'Card (4...   \n",
       "\n",
       "                                            Player 1  \\\n",
       "0  ['Card (5, blue)', 'Card (9, red)', 'Card (R, ...   \n",
       "1  ['Card (5, blue)', 'Card (9, red)', 'Card (R, ...   \n",
       "2  ['Card (5, blue)', 'Card (9, red)', 'Card (R, ...   \n",
       "3  ['Card (5, blue)', 'Card (9, red)', 'Card (R, ...   \n",
       "4  ['Card (5, blue)', 'Card (9, red)', 'Card (R, ...   \n",
       "5  ['Card (5, blue)', 'Card (9, red)', 'Card (R, ...   \n",
       "6  ['Card (5, blue)', 'Card (9, red)', 'Card (R, ...   \n",
       "7  ['Card (5, blue)', 'Card (9, red)', 'Card (R, ...   \n",
       "8  ['Card (5, blue)', 'Card (9, red)', 'Card (R, ...   \n",
       "9  ['Card (5, blue)', 'Card (9, red)', 'Card (R, ...   \n",
       "\n",
       "                                            Player 2  \\\n",
       "0  ['Card (X, blue)', 'Card (R, yellow)', 'Card (...   \n",
       "1  ['Card (X, blue)', 'Card (R, yellow)', 'Card (...   \n",
       "2  ['Card (X, blue)', 'Card (R, yellow)', 'Card (...   \n",
       "3  ['Card (X, blue)', 'Card (R, yellow)', 'Card (...   \n",
       "4  ['Card (X, blue)', 'Card (R, yellow)', 'Card (...   \n",
       "5  ['Card (X, blue)', 'Card (R, yellow)', 'Card (...   \n",
       "6  ['Card (X, blue)', 'Card (R, yellow)', 'Card (...   \n",
       "7  ['Card (X, blue)', 'Card (R, yellow)', 'Card (...   \n",
       "8  ['Card (X, blue)', 'Card (R, yellow)', 'Card (...   \n",
       "9  ['Card (X, blue)', 'Card (R, yellow)', 'Card (...   \n",
       "\n",
       "                                            Player 3  \n",
       "0  ['Card (8, red)', 'Card (7, green)', 'Card (C,...  \n",
       "1  ['Card (8, red)', 'Card (7, green)', 'Card (C,...  \n",
       "2  ['Card (8, red)', 'Card (7, green)', 'Card (C,...  \n",
       "3  ['Card (8, red)', 'Card (7, green)', 'Card (C,...  \n",
       "4  ['Card (8, red)', 'Card (7, green)', 'Card (C,...  \n",
       "5  ['Card (8, red)', 'Card (7, green)', 'Card (C,...  \n",
       "6  ['Card (8, red)', 'Card (7, green)', 'Card (C,...  \n",
       "7  ['Card (8, red)', 'Card (7, green)', 'Card (C,...  \n",
       "8  ['Card (8, red)', 'Card (7, green)', 'Card (C,...  \n",
       "9  ['Card (8, red)', 'Card (7, green)', 'Card (C,...  "
      ]
     },
     "execution_count": 137,
     "metadata": {},
     "output_type": "execute_result"
    }
   ],
   "source": [
    "df.head(10)"
   ]
  },
  {
   "cell_type": "code",
   "execution_count": 138,
   "metadata": {},
   "outputs": [
    {
     "data": {
      "text/plain": [
       "Ganhador\n",
       "Player 2    30\n",
       "Player 1    27\n",
       "Player 3    23\n",
       "Player 0    20\n",
       "Name: count, dtype: int64"
      ]
     },
     "execution_count": 138,
     "metadata": {},
     "output_type": "execute_result"
    }
   ],
   "source": [
    "df['Ganhador'].value_counts()"
   ]
  },
  {
   "cell_type": "code",
   "execution_count": 140,
   "metadata": {},
   "outputs": [
    {
     "name": "stdout",
     "output_type": "stream",
     "text": [
      "['Card (X, blue)', 'Card (R, yellow)', 'Card (+, green)', 'Card (R, blue)', 'Card (C, blue)', 'Card (8, red)', 'Card (W, red)']\n"
     ]
    }
   ],
   "source": [
    "print(retorno.first_players_hands[2])"
   ]
  },
  {
   "cell_type": "code",
   "execution_count": 141,
   "metadata": {},
   "outputs": [
    {
     "data": {
      "text/plain": [
       "(3, 4)"
      ]
     },
     "execution_count": 141,
     "metadata": {},
     "output_type": "execute_result"
    }
   ],
   "source": [
    "simulation.verify_action_card(players_cards[3])"
   ]
  },
  {
   "cell_type": "code",
   "execution_count": 142,
   "metadata": {},
   "outputs": [],
   "source": [
    "#creating new dataset\n",
    "df_2 = pd.DataFrame()\n",
    "\n",
    "df_2['Ganhador'] = df['Ganhador']\n",
    "df_2['Freq'] = df.groupby('Ganhador')['Ganhador'].transform('count')"
   ]
  }
 ],
 "metadata": {
  "kernelspec": {
   "display_name": "Python 3",
   "language": "python",
   "name": "python3"
  },
  "language_info": {
   "codemirror_mode": {
    "name": "ipython",
    "version": 3
   },
   "file_extension": ".py",
   "mimetype": "text/x-python",
   "name": "python",
   "nbconvert_exporter": "python",
   "pygments_lexer": "ipython3",
   "version": "3.9.13"
  }
 },
 "nbformat": 4,
 "nbformat_minor": 2
}
