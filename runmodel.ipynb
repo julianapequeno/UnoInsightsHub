{
 "cells": [
  {
   "cell_type": "markdown",
   "metadata": {},
   "source": [
    "<h4> Lets run the UNO MODEL!!😊 </h4>"
   ]
  },
  {
   "cell_type": "markdown",
   "metadata": {},
   "source": [
    "In this notebook, you will be able to run the `UNO MODEL` itself. With this, you will be able to get results from the model as well as try differents inputs.\n",
    "\n",
    "- For more information, you might want to read this notebook documentation. Here's the link! [runmodel-documentation](documents\\runmodel.md)"
   ]
  },
  {
   "cell_type": "markdown",
   "metadata": {},
   "source": [
    "<h5> Choose the modes you want to try, and run all the cells! </h5>"
   ]
  },
  {
   "cell_type": "code",
   "execution_count": 1,
   "metadata": {},
   "outputs": [],
   "source": [
    "#UNO MODES\n",
    "HAVE_A_FIXED_INITIAL_CARD = False\n",
    "FIXED_INDEX_PLAYERS_CARDS = []\n",
    "NUMBER_OF_PLAYERS = 4\n",
    "NUMBER_OF_SIMULATIONS = 500"
   ]
  },
  {
   "cell_type": "code",
   "execution_count": 2,
   "metadata": {},
   "outputs": [],
   "source": [
    "from data_analysis.src.SimulationGenerator import SimulationGenerator\n",
    "\n",
    "simulation = SimulationGenerator(number_of_players=NUMBER_OF_PLAYERS,n_cards_fixed_input=FIXED_INDEX_PLAYERS_CARDS)\n",
    "simulation.generate_new_simulation_input_sample()\n",
    "UNO = simulation.generating_uno_simulation() "
   ]
  },
  {
   "cell_type": "code",
   "execution_count": 3,
   "metadata": {},
   "outputs": [],
   "source": [
    "if HAVE_A_FIXED_INITIAL_CARD:\n",
    "    FIXED_INITIAL_CARD = simulation.get_game_first_card()\n",
    "else:\n",
    "    FIXED_INITIAL_CARD = None"
   ]
  },
  {
   "cell_type": "code",
   "execution_count": 6,
   "metadata": {},
   "outputs": [],
   "source": [
    "output = UNO.round(FIXED_INITIAL_CARD,simulation.initial_players_cards)"
   ]
  },
  {
   "cell_type": "code",
   "execution_count": 22,
   "metadata": {},
   "outputs": [
    {
     "name": "stdout",
     "output_type": "stream",
     "text": [
      "---------------OUTPUT INFORMATION\n",
      "First Card is: Card( 9 , blue )\n",
      "Winner:  Player 3\n",
      "Players Initial Hands were the following:\n",
      "Player  0  Initial Hand:  ['Card (6, green)', 'Card (X, yellow)', 'Card (8, red)', 'Card (+, yellow)', 'Card (3, blue)', 'Card (4, yellow)', 'Card (4, red)']\n",
      "Player  1  Initial Hand:  ['Card (7, blue)', 'Card (5, green)', 'Card (2, green)', 'Card (5, blue)', 'Card (1, blue)', 'Card (3, green)', 'Card (+, green)']\n",
      "Player  2  Initial Hand:  ['Card (2, yellow)', 'Card (R, red)', 'Card (7, blue)', 'Card (+, blue)', 'Card (X, red)', 'Card (2, green)', 'Card (5, red)']\n",
      "Player  3  Initial Hand:  ['Card (2, blue)', 'Card (W, blue)', 'Card (1, green)', 'Card (0, green)', 'Card (X, green)', 'Card (R, yellow)', 'Card (7, yellow)']\n"
     ]
    }
   ],
   "source": [
    "print('---------------OUTPUT INFORMATION')\n",
    "print('First Card is: Card(',output.first_card.rank,',',output.first_card.color,')')\n",
    "print('Winner: ',output.winner)\n",
    "print('Players Initial Hands were the following:')\n",
    "i = 0\n",
    "for player_hand in output.first_players_hands:\n",
    "    print('Player ',i,' Initial Hand: ',player_hand)\n",
    "    i+=1"
   ]
  }
 ],
 "metadata": {
  "kernelspec": {
   "display_name": "Python 3",
   "language": "python",
   "name": "python3"
  },
  "language_info": {
   "codemirror_mode": {
    "name": "ipython",
    "version": 3
   },
   "file_extension": ".py",
   "mimetype": "text/x-python",
   "name": "python",
   "nbconvert_exporter": "python",
   "pygments_lexer": "ipython3",
   "version": "3.11.5"
  }
 },
 "nbformat": 4,
 "nbformat_minor": 2
}
