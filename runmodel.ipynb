{
 "cells": [
  {
   "cell_type": "markdown",
   "metadata": {},
   "source": [
    "<h4> Lets run the UNO MODEL!!😊 </h4>"
   ]
  },
  {
   "cell_type": "markdown",
   "metadata": {},
   "source": [
    "In this notebook, you will be able to run the `UNO MODEL` itself. With this, you will be able to get results from the model as well as try differents inputs.\n",
    "\n",
    "- For more information, you might want to read this notebook documentation. Here's the link! [runmodel-documentation](documents\\runmodel.md)\n",
    "\n",
    "- If you want to see the detailed step by step of the round(), which cards each player threw, you should run this jupyter notebook and acess the generated file: `logs/loggingfile.log`."
   ]
  },
  {
   "cell_type": "markdown",
   "metadata": {},
   "source": [
    "<h5> Choose the modes you want to try, and run all the cells! </h5>"
   ]
  },
  {
   "cell_type": "code",
   "execution_count": 6,
   "metadata": {},
   "outputs": [],
   "source": [
    "#UNO MODES\n",
    "NUMBER_OF_PLAYERS = 4"
   ]
  },
  {
   "cell_type": "code",
   "execution_count": 9,
   "metadata": {},
   "outputs": [
    {
     "name": "stdout",
     "output_type": "stream",
     "text": [
      "4\n"
     ]
    }
   ],
   "source": [
    "from data_analysis.src.SimulationGenerator import SimulationGenerator\n",
    "\n",
    "simulation = SimulationGenerator(number_of_players=NUMBER_OF_PLAYERS)\n",
    "simulation.generate_new_simulation_input_sample()\n",
    "UNO = simulation.generating_model_uno_simulation() \n",
    "\n",
    "print(NUMBER_OF_PLAYERS)"
   ]
  },
  {
   "cell_type": "code",
   "execution_count": 11,
   "metadata": {},
   "outputs": [
    {
     "name": "stdout",
     "output_type": "stream",
     "text": [
      "---------------OUTPUT INFORMATION\n",
      "First Card is: Card( 2 , blue )\n",
      "Winner:  Player 0\n",
      "Players Initial Hands were the following:\n",
      "Player  0  Initial Hand:  ['Card (W, green)', 'Card (5, blue)', 'Card (1, yellow)', 'Card (3, green)', 'Card (X, blue)', 'Card (3, yellow)', 'Card (8, blue)']\n",
      "Player  1  Initial Hand:  ['Card (4, yellow)', 'Card (6, green)', 'Card (7, blue)', 'Card (6, red)', 'Card (3, yellow)', 'Card (1, blue)', 'Card (W, blue)']\n",
      "Player  2  Initial Hand:  ['Card (0, blue)', 'Card (X, green)', 'Card (6, blue)', 'Card (C, yellow)', 'Card (W, yellow)', 'Card (5, yellow)', 'Card (9, yellow)']\n",
      "Player  3  Initial Hand:  ['Card (1, yellow)', 'Card (9, red)', 'Card (+, red)', 'Card (1, green)', 'Card (4, green)', 'Card (R, yellow)', 'Card (9, green)']\n"
     ]
    }
   ],
   "source": [
    "output = UNO.round()\n",
    "print('---------------OUTPUT INFORMATION')\n",
    "print('First Card is: Card(',output.first_card.rank,',',output.first_card.color,')')\n",
    "print('Winner: ',output.winner)\n",
    "print('Players Initial Hands were the following:')\n",
    "i = 0\n",
    "for player_hand in output.first_players_hands:\n",
    "    print('Player ',i,' Initial Hand: ',player_hand)\n",
    "    i+=1"
   ]
  }
 ],
 "metadata": {
  "kernelspec": {
   "display_name": "Python 3",
   "language": "python",
   "name": "python3"
  },
  "language_info": {
   "codemirror_mode": {
    "name": "ipython",
    "version": 3
   },
   "file_extension": ".py",
   "mimetype": "text/x-python",
   "name": "python",
   "nbconvert_exporter": "python",
   "pygments_lexer": "ipython3",
   "version": "3.10.2"
  }
 },
 "nbformat": 4,
 "nbformat_minor": 2
}
